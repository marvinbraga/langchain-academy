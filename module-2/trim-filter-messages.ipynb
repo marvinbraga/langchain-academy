{
 "cells": [
  {
   "cell_type": "markdown",
   "id": "fb0ebaf1",
   "metadata": {},
   "source": [
    "[![Open in Colab](https://colab.research.google.com/assets/colab-badge.svg)](https://colab.research.google.com/github/langchain-ai/langchain-academy/blob/main/module-2/trim-filter-messages.ipynb) [![Open in LangChain Academy](https://cdn.prod.website-files.com/65b8cd72835ceeacd4449a53/66e9eba12c7b7688aa3dbb5e_LCA-badge-green.svg)](https://academy.langchain.com/courses/take/intro-to-langgraph/lessons/58239435-lesson-4-trim-and-filter-messages)"
   ]
  },
  {
   "cell_type": "markdown",
   "id": "c52ea2f9-03ff-4647-b782-46867ebed04e",
   "metadata": {},
   "source": [
    "# Filtrando e ajustando mensagens\n",
    "\n",
    "## Revisão\n",
    "\n",
    "Agora, temos um entendimento mais profundo de algumas coisas:\n",
    "\n",
    "* Como personalizar o esquema de estado do grafo\n",
    "* Como definir redutores de estado personalizados\n",
    "* Como usar múltiplos esquemas de estado do grafo\n",
    "\n",
    "## Objetivos\n",
    "\n",
    "Agora, podemos começar a usar esses conceitos com modelos no LangGraph!\n",
    "\n",
    "Nas próximas sessões, construiremos um chatbot com memória de longo prazo.\n",
    "\n",
    "Como nosso chatbot usará mensagens, vamos primeiro falar um pouco mais sobre formas avançadas de trabalhar com mensagens no estado do grafo."
   ]
  },
  {
   "cell_type": "code",
   "id": "d5197aba-5d46-421b-ae3b-4e3034edcfda",
   "metadata": {},
   "source": [
    "%%capture --no-stderr\n",
    "%pip install --quiet -U langchain_core langgraph langchain_openai"
   ],
   "outputs": [],
   "execution_count": null
  },
  {
   "metadata": {
    "ExecuteTime": {
     "end_time": "2025-01-21T19:45:25.175884Z",
     "start_time": "2025-01-21T19:45:25.162857Z"
    }
   },
   "cell_type": "code",
   "source": [
    "from dotenv import load_dotenv, find_dotenv\n",
    "\n",
    "load_dotenv(find_dotenv())"
   ],
   "id": "336827b0be366df7",
   "outputs": [
    {
     "data": {
      "text/plain": [
       "True"
      ]
     },
     "execution_count": 1,
     "metadata": {},
     "output_type": "execute_result"
    }
   ],
   "execution_count": 1
  },
  {
   "cell_type": "code",
   "id": "768dc606-d5f2-468d-96ea-910b264e0f8a",
   "metadata": {
    "ExecuteTime": {
     "end_time": "2025-01-21T19:45:39.719403Z",
     "start_time": "2025-01-21T19:45:39.715716Z"
    }
   },
   "source": [
    "import os, getpass\n",
    "\n",
    "\n",
    "def _set_env(var: str):\n",
    "    if not os.environ.get(var):\n",
    "        os.environ[var] = getpass.getpass(f\"{var}: \")\n",
    "\n",
    "\n",
    "_set_env(\"OPENAI_API_KEY\")"
   ],
   "outputs": [],
   "execution_count": 3
  },
  {
   "cell_type": "markdown",
   "id": "8b64d8d3-e4ac-4961-bdc0-688825eb5864",
   "metadata": {},
   "source": [
    "We'll use [LangSmith](https://docs.smith.langchain.com/) for [tracing](https://docs.smith.langchain.com/concepts/tracing).\n",
    "\n",
    "We'll log to a project, `langchain-academy`. "
   ]
  },
  {
   "cell_type": "code",
   "id": "dd020c79",
   "metadata": {
    "ExecuteTime": {
     "end_time": "2025-01-21T19:45:54.729065Z",
     "start_time": "2025-01-21T19:45:54.726322Z"
    }
   },
   "source": [
    "_set_env(\"LANGCHAIN_API_KEY\")\n",
    "os.environ[\"LANGCHAIN_TRACING_V2\"] = \"true\"\n",
    "os.environ[\"LANGCHAIN_PROJECT\"] = \"langchain-academy\""
   ],
   "outputs": [],
   "execution_count": 4
  },
  {
   "cell_type": "markdown",
   "id": "72f3fc90-58b6-4f7f-897e-dddf6ae532c7",
   "metadata": {},
   "source": [
    "## Mensagens como estado\n",
    "\n",
    "Primeiro, vamos definir algumas mensagens."
   ]
  },
  {
   "cell_type": "code",
   "id": "cf11a463-e27a-4a05-b41d-64882e38edca",
   "metadata": {
    "ExecuteTime": {
     "end_time": "2025-01-21T19:52:11.081059Z",
     "start_time": "2025-01-21T19:52:11.076547Z"
    }
   },
   "source": [
    "\n",
    "from langchain_core.messages import SystemMessage, AIMessage, HumanMessage\n",
    "\n",
    "messages = [\n",
    "    SystemMessage(\"Responda sempre em português do Brasil.\"),\n",
    "    AIMessage(f\"So you said you were researching ocean mammals?\", name=\"Bot\"),\n",
    "    HumanMessage(f\"Yes, I know about whales. But what others should I learn about?\", name=\"Lance\")\n",
    "]\n",
    "\n",
    "for m in messages:\n",
    "    m.pretty_print()"
   ],
   "outputs": [
    {
     "name": "stdout",
     "output_type": "stream",
     "text": [
      "================================\u001B[1m System Message \u001B[0m================================\n",
      "\n",
      "Responda sempre em português do Brasil.\n",
      "==================================\u001B[1m Ai Message \u001B[0m==================================\n",
      "Name: Bot\n",
      "\n",
      "So you said you were researching ocean mammals?\n",
      "================================\u001B[1m Human Message \u001B[0m=================================\n",
      "Name: Lance\n",
      "\n",
      "Yes, I know about whales. But what others should I learn about?\n"
     ]
    }
   ],
   "execution_count": 9
  },
  {
   "cell_type": "markdown",
   "id": "b814adcb-6bf9-4b75-be11-e59f933fbd0c",
   "metadata": {},
   "source": "Lembre-se que podemos passá-las para um modelo de chat."
  },
  {
   "cell_type": "code",
   "id": "4712e288-e622-48a2-ad3f-a52f65f3ab08",
   "metadata": {
    "ExecuteTime": {
     "end_time": "2025-01-21T19:52:43.763606Z",
     "start_time": "2025-01-21T19:52:29.005239Z"
    }
   },
   "source": [
    "from langchain_openai import ChatOpenAI\n",
    "\n",
    "llm = ChatOpenAI(model=\"gpt-4o-mini\")\n",
    "llm.invoke(messages)"
   ],
   "outputs": [
    {
     "data": {
      "text/plain": [
       "AIMessage(content='Além das baleias, há muitos outros mamíferos marinhos interessantes para aprender. Aqui estão alguns deles:\\n\\n1. **Golfinhos**: Conhecidos por sua inteligência e comportamento social, os golfinhos são muito populares e existem várias espécies, como o golfinho-nariz-de-garrafa.\\n\\n2. **Focas**: Existem várias espécies de focas, que são adaptadas a ambientes aquáticos. As focas comuns e as focas-leão são exemplos bem conhecidos.\\n\\n3. **Leões-marinhos**: Esses mamíferos são conhecidos por suas longas nadadeiras e comportamento social. Eles costumam ser vistos em colônias.\\n\\n4. **Manatins**: Também conhecidos como vacas-marinha, esses herbívoros são encontrados em águas rasas e são conhecidos por sua natureza gentil.\\n\\n5. **Lamantins**: Semelhantes aos manatins, mas geralmente maiores, os lamantins também se alimentam de plantas aquáticas e são encontrados em áreas costeiras.\\n\\n6. **Orcas**: Também conhecidas como baleias assassinas, as orcas são na verdade golfinhos e são famosas por suas complexas estruturas sociais e inteligência.\\n\\n7. **Narvais**: Conhecidos como \"unicórnios do mar\", os narvais têm um longo dente em espiral que pode chegar a mais de 2 metros de comprimento.\\n\\n8. **Baleias-belugas**: Conhecidas pelo seu tom branco e chamadas de \"canários do mar\" devido ao seu canto melodioso.\\n\\nEsses são apenas alguns exemplos, e cada um deles possui características únicas e fascinantes. Se você estiver interessado em algum em particular, posso fornecer mais informações!', additional_kwargs={'refusal': None}, response_metadata={'token_usage': {'completion_tokens': 356, 'prompt_tokens': 52, 'total_tokens': 408, 'completion_tokens_details': {'accepted_prediction_tokens': 0, 'audio_tokens': 0, 'reasoning_tokens': 0, 'rejected_prediction_tokens': 0}, 'prompt_tokens_details': {'audio_tokens': 0, 'cached_tokens': 0}}, 'model_name': 'gpt-4o-mini-2024-07-18', 'system_fingerprint': 'fp_bd83329f63', 'finish_reason': 'stop', 'logprobs': None}, id='run-6b8c5750-c36a-48be-ad05-86cf20dc6bed-0', usage_metadata={'input_tokens': 52, 'output_tokens': 356, 'total_tokens': 408, 'input_token_details': {'audio': 0, 'cache_read': 0}, 'output_token_details': {'audio': 0, 'reasoning': 0}})"
      ]
     },
     "execution_count": 10,
     "metadata": {},
     "output_type": "execute_result"
    }
   ],
   "execution_count": 10
  },
  {
   "cell_type": "markdown",
   "id": "fbd1dab8-0af8-4621-8264-ce65065f76ec",
   "metadata": {},
   "source": "Podemos executar nosso modelo de chat em um grafo simples com `MessagesState`."
  },
  {
   "cell_type": "code",
   "id": "bbd8c39c-633b-4176-9cc6-8318e42bb5dd",
   "metadata": {
    "ExecuteTime": {
     "end_time": "2025-01-21T19:52:46.940557Z",
     "start_time": "2025-01-21T19:52:46.726353Z"
    }
   },
   "source": [
    "from IPython.display import Image, display\n",
    "from langgraph.graph import MessagesState\n",
    "from langgraph.graph import StateGraph, START, END\n",
    "\n",
    "\n",
    "# Node\n",
    "def chat_model_node(state: MessagesState):\n",
    "    return {\"messages\": llm.invoke(state[\"messages\"])}\n",
    "\n",
    "\n",
    "# Build graph\n",
    "builder = StateGraph(MessagesState)\n",
    "builder.add_node(\"chat_model\", chat_model_node)\n",
    "builder.add_edge(START, \"chat_model\")\n",
    "builder.add_edge(\"chat_model\", END)\n",
    "graph = builder.compile()\n",
    "\n",
    "# View\n",
    "display(Image(graph.get_graph().draw_mermaid_png()))"
   ],
   "outputs": [
    {
     "data": {
      "image/png": "[encoded data removed]",
      "text/plain": [
       "<IPython.core.display.Image object>"
      ]
     },
     "metadata": {},
     "output_type": "display_data"
    }
   ],
   "execution_count": 11
  },
  {
   "cell_type": "code",
   "id": "3a5a3e4a-ccfd-4d14-81f1-f0de6e11a1e4",
   "metadata": {
    "ExecuteTime": {
     "end_time": "2025-01-21T19:52:58.783434Z",
     "start_time": "2025-01-21T19:52:48.513959Z"
    }
   },
   "source": [
    "output = graph.invoke({'messages': messages})\n",
    "for m in output['messages']:\n",
    "    m.pretty_print()"
   ],
   "outputs": [
    {
     "name": "stdout",
     "output_type": "stream",
     "text": [
      "================================\u001B[1m System Message \u001B[0m================================\n",
      "\n",
      "Responda sempre em português do Brasil.\n",
      "==================================\u001B[1m Ai Message \u001B[0m==================================\n",
      "Name: Bot\n",
      "\n",
      "So you said you were researching ocean mammals?\n",
      "================================\u001B[1m Human Message \u001B[0m=================================\n",
      "Name: Lance\n",
      "\n",
      "Yes, I know about whales. But what others should I learn about?\n",
      "==================================\u001B[1m Ai Message \u001B[0m==================================\n",
      "\n",
      "Além das baleias, existem diversos outros mamíferos marinhos interessantes que você pode estudar. Aqui estão alguns deles:\n",
      "\n",
      "1. **Golfinhos**: Conhecidos por sua inteligência e comportamento social, os golfinhos são fascinantes e possuem diversas espécies, como o golfinho-nariz-de-garrafa.\n",
      "\n",
      "2. **Focas**: Existem várias espécies de focas, como a foca-comum e a foca-leopardo. Elas são adaptadas a ambientes frios e são excelentes nadadoras.\n",
      "\n",
      "3. **Leões-marinhos**: Semelhantes às focas, mas com orelhas visíveis, os leões-marinhos são conhecidos por suas acrobacias e vocalizações.\n",
      "\n",
      "4. **Manatis**: Também conhecidos como vacas-marinha, esses grandes herbívoros são encontrados em águas rasas e são conhecidos por sua natureza tranquila.\n",
      "\n",
      "5. **Morsas**: Caracterizadas por suas longas presas, as morsas vivem em águas geladas e são conhecidas por sua aparência robusta.\n",
      "\n",
      "6. **Orcas**: Também chamadas de baleias assassinas, as orcas são na verdade golfinhos. Elas são altamente sociais e têm complexas estruturas sociais.\n",
      "\n",
      "7. **Dugongos**: Semelhantes aos manatis, os dugongos também são herbívoros, mas vivem principalmente em águas quentes e rasas do Oceano Índico e do Mar Vermelho.\n",
      "\n",
      "8. **Pangas**: Esses mamíferos são conhecidos por suas habilidades de mergulho e podem ser encontrados em várias partes do mundo.\n",
      "\n",
      "Cada um desses mamíferos tem suas próprias características e adaptações únicas, tornando-os fascinantes para pesquisa e estudo.\n"
     ]
    }
   ],
   "execution_count": 12
  },
  {
   "cell_type": "markdown",
   "id": "34c33e63-1ef4-412d-bb10-6a1b9e5b35a7",
   "metadata": {},
   "source": [
    "## Redutor\n",
    "\n",
    "Um desafio prático ao trabalhar com mensagens é gerenciar conversas longas.\n",
    "\n",
    "Conversas longas resultam em alto uso de tokens e latência se não formos cuidadosos, porque passamos uma lista crescente de mensagens para o modelo.\n",
    "\n",
    "Temos algumas maneiras de lidar com isso.\n",
    "\n",
    "Primeiro, lembre-se do truque que vimos usando `RemoveMessage` e o redutor `add_messages`."
   ]
  },
  {
   "cell_type": "code",
   "id": "222c6bc5-bb0e-4a43-80f5-c8ec38d99f3a",
   "metadata": {
    "ExecuteTime": {
     "end_time": "2025-01-21T20:01:50.788995Z",
     "start_time": "2025-01-21T20:01:50.560364Z"
    }
   },
   "source": [
    "from langchain_core.messages import RemoveMessage\n",
    "\n",
    "\n",
    "# Nós\n",
    "def filter_messages(state: MessagesState):\n",
    "    # Excluir todas as mensagens, exceto as 2 mais recentes\n",
    "    delete_messages = [\n",
    "        RemoveMessage(id=m.id) for m in state[\"messages\"][:-2]\n",
    "        if type(m) is not SystemMessage\n",
    "    ]\n",
    "    return {\"messages\": delete_messages}\n",
    "\n",
    "\n",
    "def chat_model_node(state: MessagesState):\n",
    "    return {\"messages\": [llm.invoke(state[\"messages\"])]}\n",
    "\n",
    "\n",
    "# Construir grafo\n",
    "builder = StateGraph(MessagesState)\n",
    "builder.add_node(\"filter\", filter_messages)\n",
    "builder.add_node(\"chat_model\", chat_model_node)\n",
    "builder.add_edge(START, \"filter\")\n",
    "builder.add_edge(\"filter\", \"chat_model\")\n",
    "builder.add_edge(\"chat_model\", END)\n",
    "graph = builder.compile()\n",
    "\n",
    "# Visualizar\n",
    "display(Image(graph.get_graph().draw_mermaid_png()))"
   ],
   "outputs": [
    {
     "data": {
      "image/png": "[encoded data removed]",
      "text/plain": [
       "<IPython.core.display.Image object>"
      ]
     },
     "metadata": {},
     "output_type": "display_data"
    }
   ],
   "execution_count": 16
  },
  {
   "cell_type": "code",
   "id": "95a7c2cc-54ce-43e7-9a90-abf37827d709",
   "metadata": {
    "ExecuteTime": {
     "end_time": "2025-01-21T20:01:57.989505Z",
     "start_time": "2025-01-21T20:01:51.630064Z"
    }
   },
   "source": [
    "# Lista de mensagens com um preâmbulo\n",
    "messages = [\n",
    "    SystemMessage(\"Responda sempre em português do Brasil.\"),\n",
    "    AIMessage(\"Hi.\", name=\"Bot\", id=\"1\"),\n",
    "    HumanMessage(\"Hi.\", name=\"Lance\", id=\"2\"),\n",
    "    AIMessage(\"So you said you were researching ocean mammals?\", name=\"Bot\", id=\"3\"),\n",
    "    HumanMessage(\"Yes, I know about whales. But what others should I learn about?\", name=\"Lance\", id=\"4\"),\n",
    "]\n",
    "\n",
    "# Invocar\n",
    "output = graph.invoke({'messages': messages})\n",
    "for m in output['messages']:\n",
    "    m.pretty_print()"
   ],
   "outputs": [
    {
     "name": "stdout",
     "output_type": "stream",
     "text": [
      "================================\u001B[1m System Message \u001B[0m================================\n",
      "\n",
      "Responda sempre em português do Brasil.\n",
      "==================================\u001B[1m Ai Message \u001B[0m==================================\n",
      "Name: Bot\n",
      "\n",
      "So you said you were researching ocean mammals?\n",
      "================================\u001B[1m Human Message \u001B[0m=================================\n",
      "Name: Lance\n",
      "\n",
      "Yes, I know about whales. But what others should I learn about?\n",
      "==================================\u001B[1m Ai Message \u001B[0m==================================\n",
      "\n",
      "Além das baleias, existem vários outros mamíferos marinhos interessantes que você pode aprender sobre. Aqui estão alguns deles:\n",
      "\n",
      "1. **Golfinhos**: Conhecidos por sua inteligência e comportamento social, os golfinhos são frequentemente vistos em grupos e possuem uma variedade de vocalizações.\n",
      "\n",
      "2. **Focas**: Existem várias espécies de focas, como a foca-comum e a foca-leopardo. Elas são adaptadas para a vida no mar, mas também passam tempo em terra.\n",
      "\n",
      "3. **Leões-marinhos**: Semelhantes às focas, os leões-marinhos têm orelhas externas e são conhecidos por suas acrobacias e vocalizações.\n",
      "\n",
      "4. **Morsas**: Esses grandes mamíferos marinhos são conhecidos por seus longos icólios e pele grossa. Eles habitam águas frias e são frequentemente vistos em grupos.\n",
      "\n",
      "5. **Manatís**: Também conhecidos como vacas-marinha, os manatís são herbívoros e vivem em águas rasas, como rios e estuários.\n",
      "\n",
      "6. **Dugongos**: Semelhantes aos manatís, os dugongos também são herbívoros, mas são encontrados principalmente em águas salgadas.\n",
      "\n",
      "7. **Narvais**: Conhecidos como os \"unicórnios do mar\", os narvais têm um longo dente em espiral que se assemelha a um chifre.\n",
      "\n",
      "8. **Orcas**: Também conhecidas como baleias assassinas, as orcas são na verdade golfinhos e são conhecidas por suas habilidades de caça em grupo.\n",
      "\n",
      "Esses são apenas alguns exemplos, e cada um deles tem características únicas e fascinantes. Estudar esses mamíferos pode oferecer uma visão incrível sobre a biodiversidade dos oceanos!\n"
     ]
    }
   ],
   "execution_count": 17
  },
  {
   "cell_type": "markdown",
   "id": "f506457d-014b-4fee-a684-e5edfb4b8f0d",
   "metadata": {},
   "source": [
    "## Filtrando mensagens\n",
    "\n",
    "Se você não precisa ou não quer modificar o estado do grafo, você pode simplesmente filtrar as mensagens que passa para o modelo de chat.\n",
    "\n",
    "Por exemplo, basta passar uma lista filtrada: `llm.invoke(messages[-1:])` para o modelo."
   ]
  },
  {
   "cell_type": "code",
   "id": "22d0b904-7cd6-486b-8948-105bee3d4683",
   "metadata": {
    "ExecuteTime": {
     "end_time": "2025-01-21T20:04:08.562161Z",
     "start_time": "2025-01-21T20:04:08.291197Z"
    }
   },
   "source": [
    "# Nó\n",
    "def chat_model_node(state: MessagesState):\n",
    "    return {\"messages\": [llm.invoke(state[\"messages\"][-1:])]}\n",
    "\n",
    "\n",
    "# Construir grafo\n",
    "builder = StateGraph(MessagesState)\n",
    "builder.add_node(\"chat_model\", chat_model_node)\n",
    "builder.add_edge(START, \"chat_model\")\n",
    "builder.add_edge(\"chat_model\", END)\n",
    "graph = builder.compile()\n",
    "\n",
    "# Visualizar\n",
    "display(Image(graph.get_graph().draw_mermaid_png()))"
   ],
   "outputs": [
    {
     "data": {
      "image/png": "[encoded data removed]",
      "text/plain": [
       "<IPython.core.display.Image object>"
      ]
     },
     "metadata": {},
     "output_type": "display_data"
    }
   ],
   "execution_count": 18
  },
  {
   "cell_type": "markdown",
   "id": "6f58c6fc-532f-418d-b70a-cfcb3307daf5",
   "metadata": {},
   "source": "Vamos pegar nossa lista existente de mensagens, anexar a resposta do LLM acima e anexar uma pergunta de acompanhamento."
  },
  {
   "cell_type": "code",
   "id": "16956015-1dbe-4108-89b5-4209b68b51ca",
   "metadata": {
    "ExecuteTime": {
     "end_time": "2025-01-21T20:04:35.190668Z",
     "start_time": "2025-01-21T20:04:35.187775Z"
    }
   },
   "source": [
    "messages.append(output['messages'][-1])\n",
    "messages.append(HumanMessage(f\"Tell me more about Narwhals!\", name=\"Lance\"))"
   ],
   "outputs": [],
   "execution_count": 20
  },
  {
   "cell_type": "code",
   "id": "85563415-c085-46a8-a4ac-155df798c54e",
   "metadata": {
    "ExecuteTime": {
     "end_time": "2025-01-21T20:04:38.037378Z",
     "start_time": "2025-01-21T20:04:38.033381Z"
    }
   },
   "source": [
    "for m in messages:\n",
    "    m.pretty_print()"
   ],
   "outputs": [
    {
     "name": "stdout",
     "output_type": "stream",
     "text": [
      "================================\u001B[1m System Message \u001B[0m================================\n",
      "\n",
      "Responda sempre em português do Brasil.\n",
      "==================================\u001B[1m Ai Message \u001B[0m==================================\n",
      "Name: Bot\n",
      "\n",
      "Hi.\n",
      "================================\u001B[1m Human Message \u001B[0m=================================\n",
      "Name: Lance\n",
      "\n",
      "Hi.\n",
      "==================================\u001B[1m Ai Message \u001B[0m==================================\n",
      "Name: Bot\n",
      "\n",
      "So you said you were researching ocean mammals?\n",
      "================================\u001B[1m Human Message \u001B[0m=================================\n",
      "Name: Lance\n",
      "\n",
      "Yes, I know about whales. But what others should I learn about?\n",
      "==================================\u001B[1m Ai Message \u001B[0m==================================\n",
      "\n",
      "Além das baleias, existem vários outros mamíferos marinhos interessantes que você pode aprender sobre. Aqui estão alguns deles:\n",
      "\n",
      "1. **Golfinhos**: Conhecidos por sua inteligência e comportamento social, os golfinhos são frequentemente vistos em grupos e possuem uma variedade de vocalizações.\n",
      "\n",
      "2. **Focas**: Existem várias espécies de focas, como a foca-comum e a foca-leopardo. Elas são adaptadas para a vida no mar, mas também passam tempo em terra.\n",
      "\n",
      "3. **Leões-marinhos**: Semelhantes às focas, os leões-marinhos têm orelhas externas e são conhecidos por suas acrobacias e vocalizações.\n",
      "\n",
      "4. **Morsas**: Esses grandes mamíferos marinhos são conhecidos por seus longos icólios e pele grossa. Eles habitam águas frias e são frequentemente vistos em grupos.\n",
      "\n",
      "5. **Manatís**: Também conhecidos como vacas-marinha, os manatís são herbívoros e vivem em águas rasas, como rios e estuários.\n",
      "\n",
      "6. **Dugongos**: Semelhantes aos manatís, os dugongos também são herbívoros, mas são encontrados principalmente em águas salgadas.\n",
      "\n",
      "7. **Narvais**: Conhecidos como os \"unicórnios do mar\", os narvais têm um longo dente em espiral que se assemelha a um chifre.\n",
      "\n",
      "8. **Orcas**: Também conhecidas como baleias assassinas, as orcas são na verdade golfinhos e são conhecidas por suas habilidades de caça em grupo.\n",
      "\n",
      "Esses são apenas alguns exemplos, e cada um deles tem características únicas e fascinantes. Estudar esses mamíferos pode oferecer uma visão incrível sobre a biodiversidade dos oceanos!\n",
      "================================\u001B[1m Human Message \u001B[0m=================================\n",
      "Name: Lance\n",
      "\n",
      "Tell me more about Narwhals!\n",
      "==================================\u001B[1m Ai Message \u001B[0m==================================\n",
      "\n",
      "Além das baleias, existem vários outros mamíferos marinhos interessantes que você pode aprender sobre. Aqui estão alguns deles:\n",
      "\n",
      "1. **Golfinhos**: Conhecidos por sua inteligência e comportamento social, os golfinhos são frequentemente vistos em grupos e possuem uma variedade de vocalizações.\n",
      "\n",
      "2. **Focas**: Existem várias espécies de focas, como a foca-comum e a foca-leopardo. Elas são adaptadas para a vida no mar, mas também passam tempo em terra.\n",
      "\n",
      "3. **Leões-marinhos**: Semelhantes às focas, os leões-marinhos têm orelhas externas e são conhecidos por suas acrobacias e vocalizações.\n",
      "\n",
      "4. **Morsas**: Esses grandes mamíferos marinhos são conhecidos por seus longos icólios e pele grossa. Eles habitam águas frias e são frequentemente vistos em grupos.\n",
      "\n",
      "5. **Manatís**: Também conhecidos como vacas-marinha, os manatís são herbívoros e vivem em águas rasas, como rios e estuários.\n",
      "\n",
      "6. **Dugongos**: Semelhantes aos manatís, os dugongos também são herbívoros, mas são encontrados principalmente em águas salgadas.\n",
      "\n",
      "7. **Narvais**: Conhecidos como os \"unicórnios do mar\", os narvais têm um longo dente em espiral que se assemelha a um chifre.\n",
      "\n",
      "8. **Orcas**: Também conhecidas como baleias assassinas, as orcas são na verdade golfinhos e são conhecidas por suas habilidades de caça em grupo.\n",
      "\n",
      "Esses são apenas alguns exemplos, e cada um deles tem características únicas e fascinantes. Estudar esses mamíferos pode oferecer uma visão incrível sobre a biodiversidade dos oceanos!\n",
      "================================\u001B[1m Human Message \u001B[0m=================================\n",
      "Name: Lance\n",
      "\n",
      "Tell me more about Narwhals!\n"
     ]
    }
   ],
   "execution_count": 21
  },
  {
   "cell_type": "code",
   "id": "23349705-a059-47b5-9760-d8f64e687393",
   "metadata": {
    "ExecuteTime": {
     "end_time": "2025-01-21T20:05:07.571790Z",
     "start_time": "2025-01-21T20:04:58.324533Z"
    }
   },
   "source": [
    "# Invoke, using message filtering\n",
    "output = graph.invoke({'messages': messages})\n",
    "for m in output['messages']:\n",
    "    m.pretty_print()"
   ],
   "outputs": [
    {
     "name": "stdout",
     "output_type": "stream",
     "text": [
      "================================\u001B[1m System Message \u001B[0m================================\n",
      "\n",
      "Responda sempre em português do Brasil.\n",
      "==================================\u001B[1m Ai Message \u001B[0m==================================\n",
      "Name: Bot\n",
      "\n",
      "Hi.\n",
      "================================\u001B[1m Human Message \u001B[0m=================================\n",
      "Name: Lance\n",
      "\n",
      "Hi.\n",
      "==================================\u001B[1m Ai Message \u001B[0m==================================\n",
      "Name: Bot\n",
      "\n",
      "So you said you were researching ocean mammals?\n",
      "================================\u001B[1m Human Message \u001B[0m=================================\n",
      "Name: Lance\n",
      "\n",
      "Yes, I know about whales. But what others should I learn about?\n",
      "==================================\u001B[1m Ai Message \u001B[0m==================================\n",
      "\n",
      "Além das baleias, existem vários outros mamíferos marinhos interessantes que você pode aprender sobre. Aqui estão alguns deles:\n",
      "\n",
      "1. **Golfinhos**: Conhecidos por sua inteligência e comportamento social, os golfinhos são frequentemente vistos em grupos e possuem uma variedade de vocalizações.\n",
      "\n",
      "2. **Focas**: Existem várias espécies de focas, como a foca-comum e a foca-leopardo. Elas são adaptadas para a vida no mar, mas também passam tempo em terra.\n",
      "\n",
      "3. **Leões-marinhos**: Semelhantes às focas, os leões-marinhos têm orelhas externas e são conhecidos por suas acrobacias e vocalizações.\n",
      "\n",
      "4. **Morsas**: Esses grandes mamíferos marinhos são conhecidos por seus longos icólios e pele grossa. Eles habitam águas frias e são frequentemente vistos em grupos.\n",
      "\n",
      "5. **Manatís**: Também conhecidos como vacas-marinha, os manatís são herbívoros e vivem em águas rasas, como rios e estuários.\n",
      "\n",
      "6. **Dugongos**: Semelhantes aos manatís, os dugongos também são herbívoros, mas são encontrados principalmente em águas salgadas.\n",
      "\n",
      "7. **Narvais**: Conhecidos como os \"unicórnios do mar\", os narvais têm um longo dente em espiral que se assemelha a um chifre.\n",
      "\n",
      "8. **Orcas**: Também conhecidas como baleias assassinas, as orcas são na verdade golfinhos e são conhecidas por suas habilidades de caça em grupo.\n",
      "\n",
      "Esses são apenas alguns exemplos, e cada um deles tem características únicas e fascinantes. Estudar esses mamíferos pode oferecer uma visão incrível sobre a biodiversidade dos oceanos!\n",
      "================================\u001B[1m Human Message \u001B[0m=================================\n",
      "Name: Lance\n",
      "\n",
      "Tell me more about Narwhals!\n",
      "==================================\u001B[1m Ai Message \u001B[0m==================================\n",
      "\n",
      "Além das baleias, existem vários outros mamíferos marinhos interessantes que você pode aprender sobre. Aqui estão alguns deles:\n",
      "\n",
      "1. **Golfinhos**: Conhecidos por sua inteligência e comportamento social, os golfinhos são frequentemente vistos em grupos e possuem uma variedade de vocalizações.\n",
      "\n",
      "2. **Focas**: Existem várias espécies de focas, como a foca-comum e a foca-leopardo. Elas são adaptadas para a vida no mar, mas também passam tempo em terra.\n",
      "\n",
      "3. **Leões-marinhos**: Semelhantes às focas, os leões-marinhos têm orelhas externas e são conhecidos por suas acrobacias e vocalizações.\n",
      "\n",
      "4. **Morsas**: Esses grandes mamíferos marinhos são conhecidos por seus longos icólios e pele grossa. Eles habitam águas frias e são frequentemente vistos em grupos.\n",
      "\n",
      "5. **Manatís**: Também conhecidos como vacas-marinha, os manatís são herbívoros e vivem em águas rasas, como rios e estuários.\n",
      "\n",
      "6. **Dugongos**: Semelhantes aos manatís, os dugongos também são herbívoros, mas são encontrados principalmente em águas salgadas.\n",
      "\n",
      "7. **Narvais**: Conhecidos como os \"unicórnios do mar\", os narvais têm um longo dente em espiral que se assemelha a um chifre.\n",
      "\n",
      "8. **Orcas**: Também conhecidas como baleias assassinas, as orcas são na verdade golfinhos e são conhecidas por suas habilidades de caça em grupo.\n",
      "\n",
      "Esses são apenas alguns exemplos, e cada um deles tem características únicas e fascinantes. Estudar esses mamíferos pode oferecer uma visão incrível sobre a biodiversidade dos oceanos!\n",
      "================================\u001B[1m Human Message \u001B[0m=================================\n",
      "Name: Lance\n",
      "\n",
      "Tell me more about Narwhals!\n",
      "==================================\u001B[1m Ai Message \u001B[0m==================================\n",
      "\n",
      "Narwhals (Monodon monoceros) are fascinating marine mammals known for their distinctive long, spiral tusk, which is actually an elongated tooth. Here are some interesting facts about narwhals:\n",
      "\n",
      "1. **Habitat**: Narwhals are primarily found in the Arctic waters of Canada, Greenland, Norway, and Russia. They prefer deep, icy waters and are often associated with areas of sea ice.\n",
      "\n",
      "2. **Tusk**: The narwhal's tusk can reach lengths of up to 10 feet (3 meters) and is more common in males, although some females may also have a tusk. The tusk is thought to play a role in mating displays and social interactions, and it may also have sensory functions.\n",
      "\n",
      "3. **Diet**: Narwhals primarily feed on fish, squid, and other marine organisms. They are known to dive to great depths (up to 1,500 meters or about 4,900 feet) to catch their prey.\n",
      "\n",
      "4. **Social Structure**: Narwhals are social animals that typically live in groups called pods, which can range from a few individuals to several dozen. They are known to exhibit various vocalizations and social behaviors.\n",
      "\n",
      "5. **Migration**: Narwhals are known for their seasonal migrations, traveling to different areas based on the availability of food and the formation of sea ice. In summer, they can be found in more northern regions, while in winter, they may move south to areas with open water.\n",
      "\n",
      "6. **Conservation Status**: Narwhals are currently classified as \"Near Threatened\" by the International Union for Conservation of Nature (IUCN). They face threats from climate change, which affects their habitat and prey availability, as well as from hunting and industrial activities.\n",
      "\n",
      "7. **Cultural Significance**: Narwhals have been a part of the culture and folklore of Indigenous Arctic peoples for centuries. Their tusks were historically used as a material for various tools and crafts and were often referred to as \"unicorn horns.\"\n",
      "\n",
      "Overall, narwhals are unique creatures that play an important role in their ecosystem and have captivated human interest due to their unusual appearance and behaviors.\n"
     ]
    }
   ],
   "execution_count": 22
  },
  {
   "cell_type": "markdown",
   "id": "42e1d8d2-e297-4d78-b54c-d12b3c866745",
   "metadata": {},
   "source": [
    "O estado tem todas as mensagens.\n",
    "\n",
    "Mas, vamos olhar o rastreamento do LangSmith para ver que a invocação do modelo usa apenas a última mensagem:\n",
    "\n",
    "https://smith.langchain.com/public/75aca3ce-ef19-4b92-94be-0178c7a660d9/r"
   ]
  },
  {
   "cell_type": "markdown",
   "id": "fc40d930-3c1f-47fe-8d2a-ce174873353c",
   "metadata": {},
   "source": [
    "## Ajustar mensagens\n",
    "\n",
    "Outra abordagem é [ajustar as mensagens](https://python.langchain.com/v0.2/docs/how_to/trim_messages/#getting-the-last-max_tokens-tokens), com base em um número definido de tokens.\n",
    "\n",
    "Isso restringe o histórico de mensagens a um número específico de tokens.\n",
    "\n",
    "Enquanto a filtragem retorna apenas um subconjunto post-hoc das mensagens entre agentes, o ajuste restringe o número de tokens que um modelo de chat pode usar para responder.\n",
    "\n",
    "Veja o `trim_messages` abaixo."
   ]
  },
  {
   "cell_type": "code",
   "id": "2ff99b81-cf03-4cc2-b44f-44829a73e1fd",
   "metadata": {
    "ExecuteTime": {
     "end_time": "2025-01-21T20:07:22.192859Z",
     "start_time": "2025-01-21T20:07:21.974876Z"
    }
   },
   "source": [
    "from langchain_core.messages import trim_messages\n",
    "\n",
    "\n",
    "# Nó\n",
    "def chat_model_node(state: MessagesState):\n",
    "    messages = trim_messages(\n",
    "        state[\"messages\"],\n",
    "        max_tokens=100,\n",
    "        strategy=\"last\",\n",
    "        token_counter=ChatOpenAI(model=\"gpt-4o-mini\"),\n",
    "        allow_partial=False,\n",
    "    )\n",
    "    return {\"messages\": [llm.invoke(messages)]}\n",
    "\n",
    "\n",
    "# Construir grafo\n",
    "builder = StateGraph(MessagesState)\n",
    "builder.add_node(\"chat_model\", chat_model_node)\n",
    "builder.add_edge(START, \"chat_model\")\n",
    "builder.add_edge(\"chat_model\", END)\n",
    "graph = builder.compile()\n",
    "\n",
    "# Visualizar\n",
    "display(Image(graph.get_graph().draw_mermaid_png()))"
   ],
   "outputs": [
    {
     "data": {
      "image/png": "[encoded data removed]",
      "text/plain": [
       "<IPython.core.display.Image object>"
      ]
     },
     "metadata": {},
     "output_type": "display_data"
    }
   ],
   "execution_count": 23
  },
  {
   "cell_type": "code",
   "id": "24df63ac-da29-4874-b3df-7e390e97cc8a",
   "metadata": {
    "ExecuteTime": {
     "end_time": "2025-01-21T20:07:29.291739Z",
     "start_time": "2025-01-21T20:07:29.288524Z"
    }
   },
   "source": [
    "messages.append(output['messages'][-1])\n",
    "messages.append(HumanMessage(f\"Tell me where Orcas live!\", name=\"Lance\"))"
   ],
   "outputs": [],
   "execution_count": 24
  },
  {
   "cell_type": "code",
   "id": "6d9d8971-c75c-43ca-a209-eb1d07b2ead0",
   "metadata": {
    "ExecuteTime": {
     "end_time": "2025-01-21T20:07:45.013839Z",
     "start_time": "2025-01-21T20:07:42.322736Z"
    }
   },
   "source": [
    "# Example of trimming messages\n",
    "trim_messages(\n",
    "    messages,\n",
    "    max_tokens=100,\n",
    "    strategy=\"last\",\n",
    "    token_counter=ChatOpenAI(model=\"gpt-4o-mini\"),\n",
    "    allow_partial=False\n",
    ")"
   ],
   "outputs": [
    {
     "data": {
      "text/plain": [
       "[HumanMessage(content='Tell me where Orcas live!', additional_kwargs={}, response_metadata={}, name='Lance')]"
      ]
     },
     "execution_count": 25,
     "metadata": {},
     "output_type": "execute_result"
    }
   ],
   "execution_count": 25
  },
  {
   "cell_type": "code",
   "id": "ed70a269-a869-4fa0-a1df-29736a432c51",
   "metadata": {
    "ExecuteTime": {
     "end_time": "2025-01-21T20:07:48.179420Z",
     "start_time": "2025-01-21T20:07:45.081495Z"
    }
   },
   "source": [
    "# Invoke, using message trimming in the chat_model_node \n",
    "messages_out_trim = graph.invoke({'messages': messages})"
   ],
   "outputs": [],
   "execution_count": 26
  },
  {
   "cell_type": "markdown",
   "id": "38b3db67-380e-46b5-9a6a-20100ba52008",
   "metadata": {},
   "source": [
    "Vamos olhar o rastreamento do LangSmith para ver a invocação do modelo:\n",
    "\n",
    "https://smith.langchain.com/public/b153f7e9-f1a5-4d60-8074-f0d7ab5b42ef/r"
   ]
  }
 ],
 "metadata": {
  "kernelspec": {
   "display_name": "Python 3 (ipykernel)",
   "language": "python",
   "name": "python3"
  },
  "language_info": {
   "codemirror_mode": {
    "name": "ipython",
    "version": 3
   },
   "file_extension": ".py",
   "mimetype": "text/x-python",
   "name": "python",
   "nbconvert_exporter": "python",
   "pygments_lexer": "ipython3",
   "version": "3.12.1"
  }
 },
 "nbformat": 4,
 "nbformat_minor": 5
}
